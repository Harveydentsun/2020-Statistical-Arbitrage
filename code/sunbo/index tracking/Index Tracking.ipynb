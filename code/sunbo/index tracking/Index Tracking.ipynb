{
 "cells": [
  {
   "cell_type": "markdown",
   "metadata": {
    "slideshow": {
     "slide_type": "-"
    }
   },
   "source": [
    "# 指数追踪 Index Tracking\n",
    "## —— QTA内培专用\n",
    "\n",
    "### 概念\n",
    "- 指数追踪是指通过利用一个的股票组合复制某一现实指数或者虚拟指数的市场表现，来获取与指数相近的收益，试图最小化跟踪误差（tracking error）。\n",
    "\n",
    "### 特点\n",
    "- 指数追踪不同于指数复制（Index replication）。前者使用不同于指数的股票池追踪指数表现，而后者使用与指数完全相同的股票复制指数表现。\n",
    "- 指数追踪通常使用少于指数成分股的股票。一个原因是避免持有过小的和流动性差的头寸，另一个原因是减少交易成本。\n",
    "- 指数追踪的研究方法与指数增强（Smart Beta）极为相似，仅是目标函数和限制条件有少许不同。\n",
    "- 指数追踪一般不涉及预测\n"
   ]
  },
  {
   "cell_type": "code",
   "execution_count": 1,
   "metadata": {},
   "outputs": [],
   "source": [
    "import numpy as np\n",
    "import pandas as pd\n",
    "import cvxpy as cp\n",
    "import matplotlib.pyplot as plt"
   ]
  },
  {
   "cell_type": "code",
   "execution_count": 2,
   "metadata": {},
   "outputs": [
    {
     "data": {
      "text/html": [
       "<div>\n",
       "<style scoped>\n",
       "    .dataframe tbody tr th:only-of-type {\n",
       "        vertical-align: middle;\n",
       "    }\n",
       "\n",
       "    .dataframe tbody tr th {\n",
       "        vertical-align: top;\n",
       "    }\n",
       "\n",
       "    .dataframe thead th {\n",
       "        text-align: right;\n",
       "    }\n",
       "</style>\n",
       "<table border=\"1\" class=\"dataframe\">\n",
       "  <thead>\n",
       "    <tr style=\"text-align: right;\">\n",
       "      <th></th>\n",
       "      <th>代码</th>\n",
       "      <th>简称</th>\n",
       "      <th>收盘价</th>\n",
       "      <th>权重</th>\n",
       "      <th>涨跌</th>\n",
       "      <th>涨跌幅</th>\n",
       "      <th>成交量(万)</th>\n",
       "      <th>成交额(万)</th>\n",
       "      <th>总股本(亿)</th>\n",
       "      <th>自由流通股本(亿)</th>\n",
       "      <th>...</th>\n",
       "      <th>市盈率-TTM</th>\n",
       "      <th>证监会行业</th>\n",
       "      <th>Wind一级行业</th>\n",
       "      <th>Wind二级行业</th>\n",
       "      <th>Wind三级行业</th>\n",
       "      <th>Wind四级行业</th>\n",
       "      <th>申银万国一级行业</th>\n",
       "      <th>申银万国二级行业</th>\n",
       "      <th>申银万国三级行业</th>\n",
       "      <th>沪港通</th>\n",
       "    </tr>\n",
       "  </thead>\n",
       "  <tbody>\n",
       "    <tr>\n",
       "      <th>0</th>\n",
       "      <td>601318.SH</td>\n",
       "      <td>中国平安</td>\n",
       "      <td>86.12</td>\n",
       "      <td>6.6760%</td>\n",
       "      <td>0.66</td>\n",
       "      <td>0.77%</td>\n",
       "      <td>7,782.52</td>\n",
       "      <td>671,253.16</td>\n",
       "      <td>182.80</td>\n",
       "      <td>98.70</td>\n",
       "      <td>...</td>\n",
       "      <td>9.99</td>\n",
       "      <td>金融业</td>\n",
       "      <td>金融</td>\n",
       "      <td>保险Ⅱ</td>\n",
       "      <td>保险Ⅲ</td>\n",
       "      <td>多元化保险</td>\n",
       "      <td>非银金融</td>\n",
       "      <td>保险Ⅱ</td>\n",
       "      <td>保险Ⅲ</td>\n",
       "      <td>沪港通</td>\n",
       "    </tr>\n",
       "    <tr>\n",
       "      <th>1</th>\n",
       "      <td>600519.SH</td>\n",
       "      <td>贵州茅台</td>\n",
       "      <td>1,130.00</td>\n",
       "      <td>4.0633%</td>\n",
       "      <td>-53.00</td>\n",
       "      <td>-4.48%</td>\n",
       "      <td>1,480.99</td>\n",
       "      <td>1,669,683.71</td>\n",
       "      <td>12.56</td>\n",
       "      <td>4.50</td>\n",
       "      <td>...</td>\n",
       "      <td>34.69</td>\n",
       "      <td>制造业</td>\n",
       "      <td>日常消费</td>\n",
       "      <td>食品、饮料与烟草</td>\n",
       "      <td>饮料</td>\n",
       "      <td>白酒与葡萄酒</td>\n",
       "      <td>食品饮料</td>\n",
       "      <td>饮料制造</td>\n",
       "      <td>白酒</td>\n",
       "      <td>沪港通</td>\n",
       "    </tr>\n",
       "    <tr>\n",
       "      <th>2</th>\n",
       "      <td>600036.SH</td>\n",
       "      <td>招商银行</td>\n",
       "      <td>38.88</td>\n",
       "      <td>2.8698%</td>\n",
       "      <td>1.30</td>\n",
       "      <td>3.46%</td>\n",
       "      <td>8,262.45</td>\n",
       "      <td>319,118.07</td>\n",
       "      <td>252.20</td>\n",
       "      <td>124.15</td>\n",
       "      <td>...</td>\n",
       "      <td>10.84</td>\n",
       "      <td>金融业</td>\n",
       "      <td>金融</td>\n",
       "      <td>银行</td>\n",
       "      <td>商业银行</td>\n",
       "      <td>多元化银行</td>\n",
       "      <td>银行</td>\n",
       "      <td>银行Ⅱ</td>\n",
       "      <td>银行Ⅲ</td>\n",
       "      <td>沪港通</td>\n",
       "    </tr>\n",
       "  </tbody>\n",
       "</table>\n",
       "<p>3 rows × 23 columns</p>\n",
       "</div>"
      ],
      "text/plain": [
       "          代码    简称       收盘价       权重     涨跌     涨跌幅    成交量(万)        成交额(万)  \\\n",
       "0  601318.SH  中国平安     86.12  6.6760%   0.66   0.77%  7,782.52    671,253.16   \n",
       "1  600519.SH  贵州茅台  1,130.00  4.0633% -53.00  -4.48%  1,480.99  1,669,683.71   \n",
       "2  600036.SH  招商银行     38.88  2.8698%   1.30   3.46%  8,262.45    319,118.07   \n",
       "\n",
       "   总股本(亿)  自由流通股本(亿)  ... 市盈率-TTM 证监会行业 Wind一级行业  Wind二级行业 Wind三级行业 Wind四级行业  \\\n",
       "0  182.80      98.70  ...    9.99   金融业       金融       保险Ⅱ      保险Ⅲ    多元化保险   \n",
       "1   12.56       4.50  ...   34.69   制造业     日常消费  食品、饮料与烟草       饮料   白酒与葡萄酒   \n",
       "2  252.20     124.15  ...   10.84   金融业       金融        银行     商业银行    多元化银行   \n",
       "\n",
       "  申银万国一级行业 申银万国二级行业 申银万国三级行业  沪港通  \n",
       "0     非银金融      保险Ⅱ      保险Ⅲ  沪港通  \n",
       "1     食品饮料     饮料制造       白酒  沪港通  \n",
       "2       银行      银行Ⅱ      银行Ⅲ  沪港通  \n",
       "\n",
       "[3 rows x 23 columns]"
      ]
     },
     "execution_count": 2,
     "metadata": {},
     "output_type": "execute_result"
    }
   ],
   "source": [
    "# 读取沪深300成分股\n",
    "hs300cons = pd.read_csv(r\"weight.csv\",encoding=\"gbk\")\n",
    "hs300cons.head(3)"
   ]
  },
  {
   "cell_type": "code",
   "execution_count": 3,
   "metadata": {},
   "outputs": [
    {
     "data": {
      "text/html": [
       "<div>\n",
       "<style scoped>\n",
       "    .dataframe tbody tr th:only-of-type {\n",
       "        vertical-align: middle;\n",
       "    }\n",
       "\n",
       "    .dataframe tbody tr th {\n",
       "        vertical-align: top;\n",
       "    }\n",
       "\n",
       "    .dataframe thead th {\n",
       "        text-align: right;\n",
       "    }\n",
       "</style>\n",
       "<table border=\"1\" class=\"dataframe\">\n",
       "  <thead>\n",
       "    <tr style=\"text-align: right;\">\n",
       "      <th></th>\n",
       "      <th>CODE</th>\n",
       "      <th>EXCHANGE</th>\n",
       "      <th>DATE</th>\n",
       "      <th>PRECLOSE</th>\n",
       "      <th>OPEN</th>\n",
       "      <th>HIGH</th>\n",
       "      <th>LOW</th>\n",
       "      <th>CLOSE</th>\n",
       "      <th>VOLUME</th>\n",
       "      <th>AMOUNT</th>\n",
       "      <th>FLOAT_CAP</th>\n",
       "      <th>MARKET_CAP</th>\n",
       "      <th>PCT_CHANGE</th>\n",
       "      <th>TURNOVER</th>\n",
       "      <th>ID</th>\n",
       "    </tr>\n",
       "  </thead>\n",
       "  <tbody>\n",
       "    <tr>\n",
       "      <th>0</th>\n",
       "      <td>1</td>\n",
       "      <td>SZ</td>\n",
       "      <td>2020-01-02</td>\n",
       "      <td>16.45</td>\n",
       "      <td>16.65</td>\n",
       "      <td>16.95</td>\n",
       "      <td>16.55</td>\n",
       "      <td>16.87</td>\n",
       "      <td>153023187.0</td>\n",
       "      <td>2.571196e+09</td>\n",
       "      <td>3.273750e+11</td>\n",
       "      <td>3.273778e+11</td>\n",
       "      <td>2.55</td>\n",
       "      <td>0.0079</td>\n",
       "      <td>000001.SZ</td>\n",
       "    </tr>\n",
       "    <tr>\n",
       "      <th>1</th>\n",
       "      <td>2</td>\n",
       "      <td>SZ</td>\n",
       "      <td>2020-01-02</td>\n",
       "      <td>32.18</td>\n",
       "      <td>32.80</td>\n",
       "      <td>33.60</td>\n",
       "      <td>32.51</td>\n",
       "      <td>32.56</td>\n",
       "      <td>101213040.0</td>\n",
       "      <td>3.342374e+09</td>\n",
       "      <td>3.163259e+11</td>\n",
       "      <td>3.679978e+11</td>\n",
       "      <td>1.18</td>\n",
       "      <td>0.0104</td>\n",
       "      <td>000002.SZ</td>\n",
       "    </tr>\n",
       "    <tr>\n",
       "      <th>2</th>\n",
       "      <td>63</td>\n",
       "      <td>SZ</td>\n",
       "      <td>2020-01-02</td>\n",
       "      <td>35.39</td>\n",
       "      <td>35.66</td>\n",
       "      <td>35.80</td>\n",
       "      <td>35.13</td>\n",
       "      <td>35.45</td>\n",
       "      <td>101425488.0</td>\n",
       "      <td>3.592989e+09</td>\n",
       "      <td>1.229751e+11</td>\n",
       "      <td>1.498659e+11</td>\n",
       "      <td>0.17</td>\n",
       "      <td>0.0292</td>\n",
       "      <td>000063.SZ</td>\n",
       "    </tr>\n",
       "  </tbody>\n",
       "</table>\n",
       "</div>"
      ],
      "text/plain": [
       "   CODE EXCHANGE        DATE  PRECLOSE   OPEN   HIGH    LOW  CLOSE  \\\n",
       "0     1       SZ  2020-01-02     16.45  16.65  16.95  16.55  16.87   \n",
       "1     2       SZ  2020-01-02     32.18  32.80  33.60  32.51  32.56   \n",
       "2    63       SZ  2020-01-02     35.39  35.66  35.80  35.13  35.45   \n",
       "\n",
       "        VOLUME        AMOUNT     FLOAT_CAP    MARKET_CAP  PCT_CHANGE  \\\n",
       "0  153023187.0  2.571196e+09  3.273750e+11  3.273778e+11        2.55   \n",
       "1  101213040.0  3.342374e+09  3.163259e+11  3.679978e+11        1.18   \n",
       "2  101425488.0  3.592989e+09  1.229751e+11  1.498659e+11        0.17   \n",
       "\n",
       "   TURNOVER         ID  \n",
       "0    0.0079  000001.SZ  \n",
       "1    0.0104  000002.SZ  \n",
       "2    0.0292  000063.SZ  "
      ]
     },
     "execution_count": 3,
     "metadata": {},
     "output_type": "execute_result"
    }
   ],
   "source": [
    "# 读取股票行情\n",
    "stockprice = pd.read_csv(r\"stockprice.csv\")\n",
    "stockprice.head(3)"
   ]
  },
  {
   "cell_type": "code",
   "execution_count": 4,
   "metadata": {},
   "outputs": [
    {
     "data": {
      "text/html": [
       "<div>\n",
       "<style scoped>\n",
       "    .dataframe tbody tr th:only-of-type {\n",
       "        vertical-align: middle;\n",
       "    }\n",
       "\n",
       "    .dataframe tbody tr th {\n",
       "        vertical-align: top;\n",
       "    }\n",
       "\n",
       "    .dataframe thead th {\n",
       "        text-align: right;\n",
       "    }\n",
       "</style>\n",
       "<table border=\"1\" class=\"dataframe\">\n",
       "  <thead>\n",
       "    <tr style=\"text-align: right;\">\n",
       "      <th></th>\n",
       "      <th>DATE</th>\n",
       "      <th>CLOSE</th>\n",
       "      <th>PCT_CHG</th>\n",
       "    </tr>\n",
       "  </thead>\n",
       "  <tbody>\n",
       "    <tr>\n",
       "      <th>0</th>\n",
       "      <td>2020-01-02</td>\n",
       "      <td>4152.2408</td>\n",
       "      <td>1.3587</td>\n",
       "    </tr>\n",
       "    <tr>\n",
       "      <th>1</th>\n",
       "      <td>2020-01-03</td>\n",
       "      <td>4144.9649</td>\n",
       "      <td>-0.1752</td>\n",
       "    </tr>\n",
       "    <tr>\n",
       "      <th>2</th>\n",
       "      <td>2020-01-06</td>\n",
       "      <td>4129.2954</td>\n",
       "      <td>-0.3780</td>\n",
       "    </tr>\n",
       "  </tbody>\n",
       "</table>\n",
       "</div>"
      ],
      "text/plain": [
       "         DATE      CLOSE  PCT_CHG\n",
       "0  2020-01-02  4152.2408   1.3587\n",
       "1  2020-01-03  4144.9649  -0.1752\n",
       "2  2020-01-06  4129.2954  -0.3780"
      ]
     },
     "execution_count": 4,
     "metadata": {},
     "output_type": "execute_result"
    }
   ],
   "source": [
    "# 读取沪深300行情\n",
    "hs300 = pd.read_csv(r\"HS300.csv\")\n",
    "hs300.head(3)"
   ]
  },
  {
   "cell_type": "markdown",
   "metadata": {},
   "source": [
    "### 问题一：已知股票池，确定权重\n",
    "给定待追踪的指数和它的所有N只成分股，我们要使用已知的n只股票（n<N）追踪指数表现，使得期望跟踪误差尽可能小。"
   ]
  },
  {
   "cell_type": "markdown",
   "metadata": {},
   "source": [
    "1. 基准指数为 $M$<br>收益率为 $\\tilde{r}_m$<br>方差为 $\\sigma_m^2=var(\\tilde{r}_m)$\n",
    "2. $n$只股票的收益率为 $\\tilde{r}_1,\\tilde{r}_2,...\\tilde{r}_n$<br>\n",
    "预期收益率 $\\mu_j=E(\\tilde{r}_j)$， $\\mu = (\\mu_1,\\mu_2,...\\mu_n)^T$，<br>方差 $\\sigma_j^2 = var(\\tilde{r}_j)$，<br>协方差 $\\sigma_{ij}=cov(\\tilde{r}_i,\\tilde{r}_j)$，协方差矩阵为 $\\Sigma$\n",
    "3. $n$只股票的权重为$x_1,x_2,...x_n$，$\\sum_{j=1}^n{x_j}=1$，$x = (x_1,x_2,...x_n)$<br>组合的预期收益率为 $E(\\tilde{r}_p)=\\sum_{i=j}^n{x_j\\tilde{r}_j}$\n",
    "4. 指数的预期收益率 $\\mu_m=E(\\tilde{r}_m)$<br>个股与指数协方差为 $\\sigma_{jM}=cov(\\tilde{r}_j,\\tilde{r}_m)$<br>个股Beta系数为 $\\beta_j=\\frac{\\sigma_{jM}}{\\sigma_m^2}$，$\\beta = (\\beta_1,\\beta_2,...\\beta_n)$"
   ]
  },
  {
   "cell_type": "code",
   "execution_count": 5,
   "metadata": {},
   "outputs": [],
   "source": [
    "# 指数收益期望\n",
    "μm = hs300.PCT_CHG.mean()\n",
    "# 指数收益标准差\n",
    "σm = hs300.PCT_CHG.std()\n",
    "# 收益矩阵\n",
    "stockret = stockprice.pivot(\"DATE\",\"ID\",\"PCT_CHANGE\").fillna(0)\n",
    "# 选出50只股票\n",
    "stocklist = stockprice.ID.unique()\n",
    "stocklist_q1 = stocklist[np.arange(0,300,6)]\n",
    "stockret_q1 = stockret[stocklist_q1]\n",
    "# 个股收益期望\n",
    "μ = stockret_q1.mean(axis=0).values\n",
    "# 个股收益标准差\n",
    "σ = stockret_q1.std(axis=0).values\n",
    "# 协方差矩阵\n",
    "Σ = stockret_q1.cov().values\n",
    "# Beta系数\n",
    "β = (stockret_q1.corrwith(hs300.set_index(\"DATE\").PCT_CHG)*σ/σm).values"
   ]
  },
  {
   "cell_type": "markdown",
   "metadata": {},
   "source": [
    "在$E(\\tilde{r}_p)=E(\\tilde{r}_m)$的限制下，跟踪误差为：\n",
    "\\begin{align*}\n",
    "Var(\\tilde{r}_p-\\tilde{r}_m)&=\\sigma_p^2+\\sigma_m^2-2Cov(\\tilde{r}_p,\\tilde{r}_m) \\\\\n",
    "&= \\sigma_p^2+\\sigma_m^2-2\\sum_{j=1}^nx_j\\sigma_{jM} \\\\\n",
    "&= \\sigma_p^2+\\sigma_m^2-2\\sigma_m^2\\sum_{j=1}^nx_j\\beta_j \\\\\n",
    "&= x^T\\Sigma x+\\sigma_m^2-2\\sigma_m^2\\beta^Tx\n",
    "\\end{align*}"
   ]
  },
  {
   "cell_type": "markdown",
   "metadata": {},
   "source": [
    "由于$\\sigma_m$是固定的，我们的目标函数可写为：\n",
    "$$\\begin{align*}\n",
    "\\min_x \\ & x^T\\Sigma x-2\\sigma_m^2\\beta^Tx \\\\\n",
    "\\mbox{s.t. }  & \\mu ^ T x = \\mu_m\\\\\n",
    "& \\textbf{1} ^ T x = 1\n",
    "\\end{align*}$$\n",
    "该目标函数可用 [cvxpy](https://www.cvxpy.org/examples/basic/quadratic_program.html) 求解。"
   ]
  },
  {
   "cell_type": "code",
   "execution_count": 18,
   "metadata": {},
   "outputs": [
    {
     "data": {
      "text/plain": [
       "array([ 6.17540267e-02,  3.77789867e-04,  1.69254869e-22,  2.69884792e-02,\n",
       "       -9.53482450e-23,  3.72229875e-02, -1.33319599e-22,  2.87415402e-02,\n",
       "        1.57455346e-02,  1.57597939e-03,  1.33019936e-02,  5.44379625e-03,\n",
       "        6.56548031e-02, -1.58204492e-22,  6.91152584e-02,  8.12867080e-03,\n",
       "       -6.81471090e-23, -2.67938006e-23, -8.73318686e-23,  6.47847914e-02,\n",
       "       -7.65517976e-23,  5.19206029e-02,  1.61017148e-22,  3.41362310e-02,\n",
       "        2.15770996e-02,  3.56576416e-02,  1.03241802e-22, -2.23471478e-23,\n",
       "       -1.92038143e-22,  2.06100442e-02,  5.13031077e-02,  1.40584867e-02,\n",
       "        4.46372590e-03,  4.00772747e-03,  3.19563615e-02,  2.80653081e-03,\n",
       "        3.08679954e-02,  1.24212041e-02,  9.87660904e-23,  6.96185865e-02,\n",
       "        4.76213780e-02,  7.35967307e-02,  7.86363580e-23,  1.17329961e-02,\n",
       "        5.97508641e-02,  9.84200989e-24,  9.77259828e-04,  1.88155679e-02,\n",
       "        6.35255690e-23,  3.26420697e-03])"
      ]
     },
     "execution_count": 18,
     "metadata": {},
     "output_type": "execute_result"
    }
   ],
   "source": [
    "# 使用cvxpy求解\n",
    "n = 50\n",
    "x = cp.Variable(n)\n",
    "prob = cp.Problem(cp.Minimize(cp.quad_form(x, Σ) - 2*σm**2*β.T @ x),\n",
    "                 [μ.T @ x == μm,\n",
    "                  np.ones(n) @ x == 1,\n",
    "                  x >= 0])\n",
    "prob.solve()\n",
    "x_sol = x.value\n",
    "x_sol"
   ]
  },
  {
   "cell_type": "code",
   "execution_count": 19,
   "metadata": {},
   "outputs": [
    {
     "data": {
      "image/png": "[encoded data removed]",
      "text/plain": [
       "<Figure size 1080x432 with 1 Axes>"
      ]
     },
     "metadata": {
      "needs_background": "light"
     },
     "output_type": "display_data"
    }
   ],
   "source": [
    "# 组合和指数收益率比较\n",
    "pf_ret = stockret_q1.apply(lambda x:x.values @ x_sol,axis=1)\n",
    "pf_ret[0] = 0\n",
    "pf = (pf_ret/100+1).cumprod()\n",
    "\n",
    "# 作图\n",
    "fig, ax = plt.subplots(1, 1, figsize=(15, 6))\n",
    "plt.plot(np.arange(len(pf)), \n",
    "         pf.values,\n",
    "         '-s',\n",
    "         label='Portfolio')\n",
    "plt.plot(np.arange(len(pf)), \n",
    "         hs300.CLOSE/hs300.loc[0,'CLOSE'],\n",
    "         '-o',\n",
    "         label='HS300')\n",
    "handles, labels = ax.get_legend_handles_labels()\n",
    "legend = plt.legend(handles, labels,ncol=2, frameon=False)\n",
    "plt.show()"
   ]
  },
  {
   "cell_type": "markdown",
   "metadata": {},
   "source": [
    "### 问题二：从N只成分股中选择n只股票作为股票池（简单权重）\n",
    "给定待追踪的指数和它的所有N只成分股，我们要从中选出n只股票（n<N）追踪指数表现，使得这n只股票能最好的代表N只成分股。"
   ]
  },
  {
   "cell_type": "markdown",
   "metadata": {},
   "source": [
    "核心思想：我们应该使用相似性高的股票来代表原有股票，从而缩减股票的数量。\n",
    "1. 记 $\\rho_{ij}$ 为第$i$只股票和第$j$只股票的相似程度。一般取 $\\rho_{ij}$ 为相关系数，$\\rho_{jj}=1$\n",
    "2. 我们用 $y_i \\in \\{0,1\\}$ 来表示第$i$只股票是否被选入，则$$\\sum_{i=1}^N y_i=n$$\n",
    "3. 我们用 $x_{ij} \\in \\{0,1\\}$ 来表示第$i$只股票是否被第$j$只股票代表，则$$\\sum_{j=1}^N x_{ij}=1$$$$x_{ij}\\leq y_j \\; \\forall i,j$$"
   ]
  },
  {
   "cell_type": "code",
   "execution_count": 6,
   "metadata": {},
   "outputs": [
    {
     "data": {
      "text/plain": [
       "(300, 300)"
      ]
     },
     "execution_count": 6,
     "metadata": {},
     "output_type": "execute_result"
    }
   ],
   "source": [
    "# 相关系数矩阵\n",
    "ρ = stockret.corr().values\n",
    "np.shape(ρ)"
   ]
  },
  {
   "cell_type": "markdown",
   "metadata": {},
   "source": [
    "我们的目标函数为：\n",
    "$$\\begin{align*}\n",
    "\\max_{y_j,x_{ij}} \\ & \\sum_{i=1}^N \\sum_{j=1}^N \\rho_{ij}x_{ij} \\\\\n",
    "\\mbox{s.t. }  & \\sum_{i=1}^N y_i=n\\\\\n",
    "& \\sum_{j=1}^N x_{ij}=1\\\\\n",
    "& x_{ij}\\leq y_j \\; \\forall i,j\\\\\n",
    "& x_{ij},y_j \\in \\{0,1\\} \\; \\forall i,j\n",
    "\\end{align*}$$<br>\n",
    "这是一个MILP（Mixed Integer linear Programming）问题，可以用 [cvxpy](https://www.cvxpy.org/examples/basic/mixed_integer_quadratic_program.html) 求解。得出结果后，目标权重可简单的用\n",
    "$X_j=\\sum_{i=1}^N V_i x_{ij}$ 决定，其中$V_i$是第$i$只股票的市值在指数市值中的权重。"
   ]
  },
  {
   "cell_type": "code",
   "execution_count": 7,
   "metadata": {},
   "outputs": [
    {
     "data": {
      "text/plain": [
       "-14.536057744050394"
      ]
     },
     "execution_count": 7,
     "metadata": {},
     "output_type": "execute_result"
    }
   ],
   "source": [
    "n = 300\n",
    "opt_n = 50\n",
    "ρ = ρ.flatten()\n",
    "x = cp.Variable(n**2, integer=True)\n",
    "y = cp.Variable(n, integer=True)\n",
    "constraint1 = [\n",
    "     np.ones(n) @ x[i*n:(i+1)*n] == 1 for i in range(n)\n",
    "]\n",
    "constraint2 = [\n",
    "     x[i] <= y[(i % n)] for i in range(n**2)\n",
    "]\n",
    "prob = cp.Problem(cp.Minimize(ρ @ x),\n",
    "                  [np.ones(n) @ y == opt_n] + constraint1 + constraint2 + [x >= 0] + [y >=0 ] + [y <= 1])\n",
    "prob.solve()"
   ]
  },
  {
   "cell_type": "code",
   "execution_count": 2,
   "metadata": {},
   "outputs": [],
   "source": [
    "# 替代矩阵\n",
    "x_sol = x.value\n",
    "#x_sol"
   ]
  },
  {
   "cell_type": "code",
   "execution_count": 21,
   "metadata": {},
   "outputs": [
    {
     "data": {
      "text/plain": [
       "['中国平安',\n",
       " '五粮液',\n",
       " '中信证券',\n",
       " '万科A',\n",
       " '民生银行',\n",
       " '交通银行',\n",
       " '浦发银行',\n",
       " '海康威视',\n",
       " '京东方A',\n",
       " '上海机场',\n",
       " '隆基股份',\n",
       " '中国石化',\n",
       " 'TCL科技',\n",
       " '南京银行',\n",
       " '宝钢股份',\n",
       " '爱尔眼科',\n",
       " '华夏银行',\n",
       " '申万宏源',\n",
       " '三安光电',\n",
       " '广发证券',\n",
       " '新希望',\n",
       " '汇川技术',\n",
       " '中国核电',\n",
       " '包钢股份',\n",
       " '双汇发展',\n",
       " '新和成',\n",
       " '长江证券',\n",
       " '徐工机械',\n",
       " '紫光股份',\n",
       " '光大证券',\n",
       " '雅戈尔',\n",
       " '完美世界',\n",
       " '华能国际',\n",
       " '北新建材',\n",
       " '华东医药',\n",
       " '国元证券',\n",
       " '白云机场',\n",
       " '恒逸石化',\n",
       " '上海莱士',\n",
       " '西南证券',\n",
       " '阳光城',\n",
       " '中国动力',\n",
       " '苏泊尔',\n",
       " '华电国际',\n",
       " '美锦能源',\n",
       " '河钢股份',\n",
       " '信立泰',\n",
       " '鞍钢股份',\n",
       " '九州通',\n",
       " '合盛硅业']"
      ]
     },
     "execution_count": 21,
     "metadata": {},
     "output_type": "execute_result"
    }
   ],
   "source": [
    "# 目标股票池\n",
    "y_sol = y.value\n",
    "stocklist[y_sol==1]\n",
    "list(hs300cons[hs300cons['代码'].isin(stocklist[y_sol==1])]['简称'])"
   ]
  },
  {
   "cell_type": "markdown",
   "metadata": {},
   "source": [
    "- 简单替代组合：目标权重简单的用\n",
    "$X_j=\\sum_{i=1}^N V_i x_{ij}$ 决定，其中$V_i$是第$i$只股票的市值在指数市值中的权重。"
   ]
  },
  {
   "cell_type": "code",
   "execution_count": 10,
   "metadata": {},
   "outputs": [
    {
     "data": {
      "image/png": "[encoded data removed]",
      "text/plain": [
       "<Figure size 1080x432 with 1 Axes>"
      ]
     },
     "metadata": {
      "needs_background": "light"
     },
     "output_type": "display_data"
    }
   ],
   "source": [
    "x_replace = x_sol.reshape(n,n)\n",
    "weight = hs300cons.sort_values(\"代码\",ascending=True).reset_index(drop=True)['权重']\n",
    "weight = weight.str.replace(\"%\",\"\").astype(float)\n",
    "pf_weight = np.transpose(x_replace) @ weight\n",
    "\n",
    "pf_ret = stockret.apply(lambda x:x.values @ pf_weight/100,axis=1)\n",
    "pf_ret[0] = 0\n",
    "pf = (pf_ret/100+1).cumprod()\n",
    "\n",
    "# 作图\n",
    "fig, ax = plt.subplots(1, 1, figsize=(15, 6))\n",
    "plt.plot(np.arange(len(pf)), \n",
    "         pf.values,\n",
    "         '-s',\n",
    "         label='Portfolio')\n",
    "plt.plot(np.arange(len(pf)), \n",
    "         hs300.CLOSE/hs300.loc[0,'CLOSE'],\n",
    "         '-o',\n",
    "         label='HS300')\n",
    "handles, labels = ax.get_legend_handles_labels()\n",
    "legend = plt.legend(handles, labels,ncol=2, frameon=False)\n",
    "plt.show()"
   ]
  },
  {
   "cell_type": "markdown",
   "metadata": {},
   "source": [
    "- 用问题一的思路确定权重"
   ]
  },
  {
   "cell_type": "code",
   "execution_count": 24,
   "metadata": {},
   "outputs": [
    {
     "data": {
      "image/png": "[encoded data removed]",
      "text/plain": [
       "<Figure size 1080x432 with 1 Axes>"
      ]
     },
     "metadata": {
      "needs_background": "light"
     },
     "output_type": "display_data"
    }
   ],
   "source": [
    "stocklist_q2 = stocklist[y_sol == 1]\n",
    "stockret_q2 = stockret[stocklist_q2]\n",
    "\n",
    "\n",
    "def index_tracking_graph_q1(stockret,stocklist):\n",
    "    # 样本数据计算\n",
    "    stockret_q1 = stockret[stocklist]\n",
    "    # 个股收益期望\n",
    "    μ = stockret_q1.mean(axis=0).values\n",
    "    # 个股收益标准差\n",
    "    σ = stockret_q1.std(axis=0).values\n",
    "    # 协方差矩阵\n",
    "    Σ = stockret_q1.cov().values\n",
    "    # Beta系数\n",
    "    β = (stockret_q1.corrwith(hs300.set_index(\"DATE\").PCT_CHG)*σ/σm).values\n",
    "    \n",
    "    # cvxpy求解\n",
    "    n = len(stocklist_q1)\n",
    "    x = cp.Variable(n)\n",
    "    prob = cp.Problem(cp.Minimize(cp.quad_form(x, Σ) - 2*σm**2*β.T @ x),\n",
    "                     [μ.T @ x == μm,\n",
    "                      np.ones(n) @ x == 1,\n",
    "                      x >= 0])\n",
    "    prob.solve()\n",
    "    x_sol = x.value\n",
    "    \n",
    "    # 计算组合净值\n",
    "    pf_ret = stockret_q1.apply(lambda x:x.values @ x_sol,axis=1)\n",
    "    pf_ret[0] = 0\n",
    "    pf = (pf_ret/100+1).cumprod()\n",
    "\n",
    "    # 作图\n",
    "    fig, ax = plt.subplots(1, 1, figsize=(15, 6))\n",
    "    plt.plot(np.arange(len(pf)), \n",
    "             pf.values,\n",
    "             '-s',\n",
    "             label='Portfolio')\n",
    "    plt.plot(np.arange(len(pf)), \n",
    "             hs300.CLOSE/hs300.loc[0,'CLOSE'],\n",
    "             '-o',\n",
    "             label='HS300')\n",
    "    handles, labels = ax.get_legend_handles_labels()\n",
    "    legend = plt.legend(handles, labels,ncol=2, frameon=False)\n",
    "    plt.show()\n",
    "    \n",
    "index_tracking_graph_q1(stockret,stocklist_q2)"
   ]
  },
  {
   "cell_type": "markdown",
   "metadata": {},
   "source": [
    "### 问题三：一般问题\n",
    "给定待追踪的指数和它的所有N只成分股，我们要从中选出n只股票（n<N）追踪指数表现，使得实际跟踪误差尽可能小。"
   ]
  },
  {
   "cell_type": "markdown",
   "metadata": {},
   "source": [
    "1. 记 $\\tilde{r}_t=(\\tilde{r}_t^1,\\tilde{r}_t^2,...\\tilde{r}_t^N)^T$ 为$t$期股票的收益，$\\tilde{r}_t^m$为$t$期指数的收益\n",
    "2. 记 $w=(w_1,w_2,...w_N)^T$ 为目标股票权重，其中$w_i=0$ 意味着第$i$只股票未被选入股票池<br>则$t$期组合的收益为$\\tilde{r}_t^p(w)=\\tilde{r}_t^T w$\n",
    "3. 假设 $0<\\epsilon_i<\\xi_i<1$ 为第i只股票的（持有）仓位限制，则\n",
    "$$\\epsilon_i y_i \\leq w_i \\leq \\xi_i y_i $$<br>$$\\text{其中 } y_i=\\left\\{\\begin{aligned}1, & \\text{ if } w_i>0 \\\\0, & \\text{ else }\\end{aligned}\\right.$$<br>$$\\text{且 }L \\leq \\sum_{i=1}^N y_i \\leq K$$\n",
    "4. 令 $\\bar{w}_i$ 表示指数成分的权重，换手率限制为:\n",
    "$$\\sum_{i=1}^N |w_i-\\bar{w}_i| \\leq TO$$\n",
    "引入 $\\gamma_i =|w_i-\\bar{w}_i|$ ,换手率限制可以表示为：\n",
    "$$\\sum_{i=1}^N \\gamma_i \\leq TO$$\n",
    "$$- \\gamma_i \\leq w_i-\\bar{w}_i \\leq \\gamma_i$$"
   ]
  },
  {
   "cell_type": "markdown",
   "metadata": {},
   "source": [
    "在以上条件下，我们的目标函数为：\n",
    "$$\\begin{align*}\n",
    "\\min_{w_i,y_i,\\gamma_i} \\ & f(w) = \\sqrt{\\frac{1}{T} \\sum_{t=1}^T (\\tilde{r}_t^p(w)-\\tilde{r}_t^m)^2} \\\\\n",
    "\\mbox{s.t. }  & \\epsilon_i y_i \\leq w_i \\leq \\xi_i y_i \\\\\n",
    "& L \\leq \\sum_{i=1}^N y_i \\leq K\\\\\n",
    "& y_i \\in \\{0,1\\} \\; \\forall i \\\\\n",
    "& \\sum_{i=1}^N \\gamma_i \\leq TO \\\\\n",
    "& - \\gamma_i \\leq w_i-\\bar{w}_i \\leq \\gamma_i\n",
    "\\end{align*}$$<br>\n",
    "这是一个MIQP（Mixed Integer Quadratic Programming）问题，cvxpy无法求解。可以使用Matlab的TOMLAB或IBM cplex求解。"
   ]
  },
  {
   "cell_type": "markdown",
   "metadata": {},
   "source": [
    "#### Homework：替代方案\n",
    "我们可以把目标函数 $\\min_{w_i,y_i,\\gamma_i}  f(w) = \\sqrt{\\frac{1}{T} \\sum_{t=1}^T (\\tilde{r}_t^p(w)-\\tilde{r}_t^m)^2}$ 替换为 $\\min_{w_i,y_i,\\gamma_i}  f(w) = \\frac{1}{T} \\sum_{t=1}^T |\\tilde{r}_t^p(w)-\\tilde{r}_t^m|$ ，这样就可以使用cvxpy求解（但是非常非常慢！）"
   ]
  },
  {
   "cell_type": "code",
   "execution_count": null,
   "metadata": {},
   "outputs": [],
   "source": [
    "n = 300\n",
    "ϵ = np.ones(n)*0.1\n",
    "ξ = np.ones(n)*10\n",
    "\n",
    "rm = hs300.PCT_CHG.values\n",
    "r = stockret.values\n",
    "wm = hs300cons.sort_values(\"代码\",ascending=True).reset_index(drop=True)['权重'].str.replace(\"%\",\"\").astype(float).values\n",
    "L = 30\n",
    "K = 50\n",
    "TO = 50\n",
    "nt = len(rm)\n",
    "\n",
    "w = cp.Variable(n)\n",
    "y = cp.Variable(n, integer=True)\n",
    "γ = cp.Variable(n)\n",
    "z = cp.Variable(nt)\n",
    "\n",
    "objective = cp.Minimize(np.ones(nt) @ z)\n",
    "constraint1 = [\n",
    "     ϵ[i]*y[i] <= w[i] for i in range(n)\n",
    "]\n",
    "constraint2 = [\n",
    "     ξ[i]*y[i] >= w[i] for i in range(n)\n",
    "]\n",
    "constraint3 = [\n",
    "     -γ[i] <= w[i] - wm[i] for i in range(n)\n",
    "]\n",
    "constraint4 = [\n",
    "     γ[i] >= w[i] - wm[i] for i in range(n)\n",
    "]\n",
    "constraint5 = [\n",
    "     (r @ w - rm)[i] <= z[i] for i in range(nt)\n",
    "]\n",
    "constraint6 = [\n",
    "     (rm - r @ w)[i] <= z[i] for i in range(nt)\n",
    "]\n",
    "prob = cp.Problem(objective,\n",
    "                  constraint1 + constraint2 + \\\n",
    "                  [np.ones(n) @ y >= L] + [np.ones(n) @ y <= K] + \\\n",
    "                  [y <= 1] + [y >= 0] + [γ >= 0] + \\\n",
    "                  [np.ones(n) @ γ <= TO] + constraint3 + constraint4 + \\\n",
    "                  [z >= 0] + constraint5 + constraint6)\n",
    "prob.solve()"
   ]
  },
  {
   "cell_type": "code",
   "execution_count": null,
   "metadata": {},
   "outputs": [],
   "source": [
    "w_sol = w.value\n",
    "\n",
    "# 计算组合净值\n",
    "pf_ret = stockret.apply(lambda x:x.values @ w_sol,axis=1)\n",
    "pf_ret[0] = 0\n",
    "pf = (pf_ret/100+1).cumprod()\n",
    "\n",
    "# 作图\n",
    "fig, ax = plt.subplots(1, 1, figsize=(15, 6))\n",
    "plt.plot(np.arange(len(pf)), \n",
    "         pf.values,\n",
    "         '-s',\n",
    "         label='Portfolio')\n",
    "plt.plot(np.arange(len(pf)), \n",
    "         hs300.CLOSE/hs300.loc[0,'CLOSE'],\n",
    "         '-o',\n",
    "         label='HS300')\n",
    "handles, labels = ax.get_legend_handles_labels()\n",
    "legend = plt.legend(handles, labels,ncol=2, frameon=False)\n",
    "plt.show()"
   ]
  },
  {
   "cell_type": "code",
   "execution_count": null,
   "metadata": {},
   "outputs": [],
   "source": []
  }
 ],
 "metadata": {
  "kernelspec": {
   "display_name": "Python 3",
   "language": "python",
   "name": "python3"
  },
  "language_info": {
   "codemirror_mode": {
    "name": "ipython",
    "version": 3
   },
   "file_extension": ".py",
   "mimetype": "text/x-python",
   "name": "python",
   "nbconvert_exporter": "python",
   "pygments_lexer": "ipython3",
   "version": "3.8.3"
  }
 },
 "nbformat": 4,
 "nbformat_minor": 4
}
